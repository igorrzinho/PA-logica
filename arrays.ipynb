{
  "nbformat": 4,
  "nbformat_minor": 0,
  "metadata": {
    "colab": {
      "provenance": [],
      "authorship_tag": "ABX9TyM+cftkKOWAVnKTA4ObHIQY",
      "include_colab_link": true
    },
    "kernelspec": {
      "name": "python3",
      "display_name": "Python 3"
    },
    "language_info": {
      "name": "python"
    }
  },
  "cells": [
    {
      "cell_type": "markdown",
      "metadata": {
        "id": "view-in-github",
        "colab_type": "text"
      },
      "source": [
        "<a href=\"https://colab.research.google.com/github/igorrzinho/PA-logica/blob/main/arrays.ipynb\" target=\"_parent\"><img src=\"https://colab.research.google.com/assets/colab-badge.svg\" alt=\"Open In Colab\"/></a>"
      ]
    },
    {
      "cell_type": "markdown",
      "source": [
        "## Atividade Prática: Explorando Listas, Tuplas e Dicionários\n",
        "1. Objetivo: Criar, manipular e iterar sobre listas, tuplas e dicionários em Python.\n",
        "  - Criar as seguintes estruturas de dados:\n",
        "    - Uma lista de cores favoritas.\n",
        "    - Uma tupla de nomes de países.\n",
        "    - Um dicionário de informações pessoais, onde as chaves são 'nome',\n",
        "  'idade' e 'cidade', escolha os valores a serem fornecidos.\n",
        "---\n",
        "## Manipulação das Estruturas de Dados:\n",
        "2. Realizar as seguintes operações em cada estrutura de dados:\n",
        "  - Adicionar um novo elemento à lista de cores favoritas.\n",
        "  - Modificar um elemento da tupla de nomes de países.\n",
        "  - Adicionar uma nova entrada ao dicionário de informações pessoais.\n",
        "  - Remover uma entrada do dicionário de informações pessoais.\n",
        "---\n",
        "## Iteração sobre os Elementos:\n",
        "3. Iterar sobre os elementos de cada estrutura de dados e exibir os resultados na\n",
        "tela. Usar um loop for para isso.\n",
        "- Para a lista de cores favoritas, imprimir cada cor em uma linha separada.\n",
        "- Para a tupla de nomes de países, imprimir cada país em uma linha\n",
        "separada.\n",
        "- Para o dicionário de informações pessoais, imprimir cada chave e seu\n",
        "respectivo valor em uma linha separada.\n",
        "\n",
        "# Lista"
      ],
      "metadata": {
        "id": "Uu1F_DogZLOF"
      }
    },
    {
      "cell_type": "code",
      "execution_count": null,
      "metadata": {
        "colab": {
          "base_uri": "https://localhost:8080/"
        },
        "id": "84XpOgR5Yyuu",
        "outputId": "82345e7d-0e66-4edc-903a-2cc68fdc4ea8"
      },
      "outputs": [
        {
          "output_type": "stream",
          "name": "stdout",
          "text": [
            "['azul', 'amarelo', 'vermelho', 'verde', 'preto']\n",
            "['azul', 'amarelo', 'vermelho', 'verde', 'preto', 'cinza']\n",
            "cor: azul\n",
            "cor: amarelo\n",
            "cor: vermelho\n",
            "cor: verde\n",
            "cor: preto\n",
            "cor: cinza\n"
          ]
        }
      ],
      "source": [
        "lista = ['azul', 'amarelo', 'vermelho', 'verde', 'preto']\n",
        "print(lista)\n",
        "lista.append('cinza')\n",
        "print(lista)\n",
        "\n",
        "for i in lista:\n",
        "  print(\"cor:\",i)"
      ]
    },
    {
      "cell_type": "markdown",
      "source": [
        "# Tupla"
      ],
      "metadata": {
        "id": "YPA91Nwniz_Z"
      }
    },
    {
      "cell_type": "code",
      "source": [
        "tupla = (\"Brasil\", \"India\", \"Angola\", \"China\", \"Alemanha\")\n",
        "print(tupla)\n",
        "tupla2 = list(tupla)\n",
        "\n",
        "tupla2[2] = \"Equador\"\n",
        "tupla = tuple(tupla2)\n",
        "print(tupla)\n",
        "\n",
        "for i in tupla:\n",
        "  print(\"País:\",i)\n"
      ],
      "metadata": {
        "colab": {
          "base_uri": "https://localhost:8080/"
        },
        "id": "jUSmlhzgizuJ",
        "outputId": "597cf94a-b4bc-451c-cf6b-0a65f9e7a550"
      },
      "execution_count": null,
      "outputs": [
        {
          "output_type": "stream",
          "name": "stdout",
          "text": [
            "('Brasil', 'India', 'Angola', 'China', 'Alemanha')\n",
            "('Brasil', 'India', 'Equador', 'China', 'Alemanha')\n",
            "País: Brasil\n",
            "País: India\n",
            "País: Equador\n",
            "País: China\n",
            "País: Alemanha\n"
          ]
        }
      ]
    },
    {
      "cell_type": "markdown",
      "source": [
        "# Dicionario"
      ],
      "metadata": {
        "id": "5TzTl8FYo4eh"
      }
    },
    {
      "cell_type": "code",
      "source": [
        "dicionario = {\n",
        "    \"nome\": \"Igor\",\n",
        "    \"idade\": 18,\n",
        "    \"cidade\": \"Ribeirão Pires\",\n",
        "    \"f_color\": \"Azul\"\n",
        "}\n",
        "\n",
        "for i in dicionario:\n",
        "  print(i,\":\",dicionario[i])\n",
        "\n",
        "dicionario[\"sobrenome\"] = \"Silva\"\n",
        "\n",
        "\n",
        "for i in dicionario:\n",
        "  print(i,\":\",dicionario[i])\n",
        "\n",
        "dicionario.pop(\"f_color\")\n",
        "for i in dicionario:\n",
        "  print(i,\":\",dicionario[i])"
      ],
      "metadata": {
        "colab": {
          "base_uri": "https://localhost:8080/"
        },
        "id": "UffVqht9o635",
        "outputId": "ae504b5a-e4a0-4921-b656-1242ed6a0fad"
      },
      "execution_count": null,
      "outputs": [
        {
          "output_type": "stream",
          "name": "stdout",
          "text": [
            "nome : Igor\n",
            "idade : 18\n",
            "cidade : Ribeirão Pires\n",
            "f_color : Azul\n",
            "nome : Igor\n",
            "idade : 18\n",
            "cidade : Ribeirão Pires\n",
            "f_color : Azul\n",
            "sobrenome : Silva\n",
            "nome : Igor\n",
            "idade : 18\n",
            "cidade : Ribeirão Pires\n",
            "sobrenome : Silva\n"
          ]
        }
      ]
    },
    {
      "cell_type": "markdown",
      "source": [
        "# teste"
      ],
      "metadata": {
        "id": "K4z2l8AwrHNE"
      }
    },
    {
      "cell_type": "code",
      "source": [
        "pessoas = [{\n",
        "    \"nome\": \"Igor\",\n",
        "    \"idade\": 18,\n",
        "    \"cidade\": \"Ribeirão Pires\",\n",
        "    \"f_color\": \"Azul\"\n",
        "},]\n",
        "\n",
        "\n",
        "print(pessoas)\n",
        "pessoa2 = {\n",
        "    \"nome\": \"Gustavo\",\n",
        "    \"idade\": 9,\n",
        "    \"cidade\": \"Ribeirão Pires\",\n",
        "    \"f_color\": \"Verde\"\n",
        "}\n",
        "pessoas.append(pessoa2)\n",
        "print(pessoas)\n",
        "\n",
        "pessoa2 = {\n",
        "    \"nome\": \"Lucia\",\n",
        "    \"idade\": 42,\n",
        "    \"cidade\": \"Ribeirão Pires\",\n",
        "    \"f_color\": \"Vermelho\"\n",
        "}\n",
        "pessoas.append(pessoa2)\n",
        "print(pessoas)\n",
        "pessoas[0][\"nome\"] = \"Igorrzinho\"\n",
        "print(pessoas)\n",
        "\n",
        "pessoas.pop(1)\n",
        "print(pessoas)"
      ],
      "metadata": {
        "id": "HA8Cq5hurIoz",
        "colab": {
          "base_uri": "https://localhost:8080/"
        },
        "outputId": "926e4817-046a-4903-9ad9-4d7698e0367f"
      },
      "execution_count": 13,
      "outputs": [
        {
          "output_type": "stream",
          "name": "stdout",
          "text": [
            "[{'nome': 'Igor', 'idade': 18, 'cidade': 'Ribeirão Pires', 'f_color': 'Azul'}]\n",
            "[{'nome': 'Igor', 'idade': 18, 'cidade': 'Ribeirão Pires', 'f_color': 'Azul'}, {'nome': 'Gustavo', 'idade': 9, 'cidade': 'Ribeirão Pires', 'f_color': 'Verde'}]\n",
            "[{'nome': 'Igor', 'idade': 18, 'cidade': 'Ribeirão Pires', 'f_color': 'Azul'}, {'nome': 'Gustavo', 'idade': 9, 'cidade': 'Ribeirão Pires', 'f_color': 'Verde'}, {'nome': 'Lucia', 'idade': 42, 'cidade': 'Ribeirão Pires', 'f_color': 'Vermelho'}]\n",
            "[{'nome': 'Igorrzinho', 'idade': 18, 'cidade': 'Ribeirão Pires', 'f_color': 'Azul'}, {'nome': 'Gustavo', 'idade': 9, 'cidade': 'Ribeirão Pires', 'f_color': 'Verde'}, {'nome': 'Lucia', 'idade': 42, 'cidade': 'Ribeirão Pires', 'f_color': 'Vermelho'}]\n",
            "[{'nome': 'Igorrzinho', 'idade': 18, 'cidade': 'Ribeirão Pires', 'f_color': 'Azul'}, {'nome': 'Lucia', 'idade': 42, 'cidade': 'Ribeirão Pires', 'f_color': 'Vermelho'}]\n"
          ]
        }
      ]
    }
  ]
}