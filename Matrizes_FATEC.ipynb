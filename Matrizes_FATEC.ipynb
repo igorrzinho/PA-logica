{
  "nbformat": 4,
  "nbformat_minor": 0,
  "metadata": {
    "colab": {
      "provenance": [],
      "include_colab_link": true
    },
    "kernelspec": {
      "name": "python3",
      "display_name": "Python 3"
    },
    "language_info": {
      "name": "python"
    }
  },
  "cells": [
    {
      "cell_type": "markdown",
      "metadata": {
        "id": "view-in-github",
        "colab_type": "text"
      },
      "source": [
        "<a href=\"https://colab.research.google.com/github/igorrzinho/PA-logica/blob/main/Matrizes_FATEC.ipynb\" target=\"_parent\"><img src=\"https://colab.research.google.com/assets/colab-badge.svg\" alt=\"Open In Colab\"/></a>"
      ]
    },
    {
      "cell_type": "markdown",
      "source": [
        "![image.png](data:image/png;base64,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)"
      ],
      "metadata": {
        "id": "fdSiv4a6C-yG"
      }
    },
    {
      "cell_type": "code",
      "execution_count": null,
      "metadata": {
        "id": "u2R5gR5gBnBK"
      },
      "outputs": [],
      "source": [
        "# Criando uma matriz de 3 linhas e 4 colunas (3x4)\n",
        "mat = [[0,0,0,0],[0,0,0,0],[0,0,0,0]]"
      ]
    },
    {
      "cell_type": "code",
      "source": [
        "mat"
      ],
      "metadata": {
        "colab": {
          "base_uri": "https://localhost:8080/"
        },
        "id": "JWFHJMZ_CFLV",
        "outputId": "4d44bf6f-1b23-4889-9e2f-f9b7e00a42cc"
      },
      "execution_count": null,
      "outputs": [
        {
          "output_type": "execute_result",
          "data": {
            "text/plain": [
              "[[0, 0, 0, 0], [0, 0, 0, 0], [0, 0, 0, 0]]"
            ]
          },
          "metadata": {},
          "execution_count": 2
        }
      ]
    },
    {
      "cell_type": "code",
      "source": [
        "# equivalente usando laços de repetição\n",
        "mat2 = []\n",
        "for i in range(3):\n",
        "  linha = [0] * 4\n",
        "  mat2.append(linha)\n",
        "\n",
        "mat2"
      ],
      "metadata": {
        "colab": {
          "base_uri": "https://localhost:8080/"
        },
        "id": "2VlH8hNtCH4c",
        "outputId": "e76c7885-b909-46ff-c38f-7fc5f29c0756"
      },
      "execution_count": null,
      "outputs": [
        {
          "output_type": "execute_result",
          "data": {
            "text/plain": [
              "[[0, 0, 0, 0], [0, 0, 0, 0], [0, 0, 0, 0]]"
            ]
          },
          "metadata": {},
          "execution_count": 3
        }
      ]
    },
    {
      "cell_type": "code",
      "source": [
        "# Atribuindo valores a uma matriz\n",
        "mat"
      ],
      "metadata": {
        "colab": {
          "base_uri": "https://localhost:8080/"
        },
        "id": "GCkFgUPJDKHm",
        "outputId": "898fce2d-12b4-4bbc-a5b0-09756dae38d5"
      },
      "execution_count": null,
      "outputs": [
        {
          "output_type": "execute_result",
          "data": {
            "text/plain": [
              "[[0, 0, 0, 0], [0, 0, 0, 0], [0, 0, 0, 0]]"
            ]
          },
          "metadata": {},
          "execution_count": 4
        }
      ]
    },
    {
      "cell_type": "markdown",
      "source": [
        "![image.png](data:image/png;base64,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)"
      ],
      "metadata": {
        "id": "zNOvq8iHEE97"
      }
    },
    {
      "cell_type": "code",
      "source": [
        "mat[0][2] = 5\n",
        "mat[2][0] = 7\n",
        "mat[1][1] = 11\n",
        "mat[2][3] = 8\n",
        "\n",
        "mat"
      ],
      "metadata": {
        "colab": {
          "base_uri": "https://localhost:8080/"
        },
        "id": "vhS7qXUeDQXM",
        "outputId": "80d5f7f9-9508-4ecc-8888-f0639455b3ae"
      },
      "execution_count": null,
      "outputs": [
        {
          "output_type": "execute_result",
          "data": {
            "text/plain": [
              "[[0, 0, 5, 0], [0, 11, 0, 0], [7, 0, 0, 8]]"
            ]
          },
          "metadata": {},
          "execution_count": 5
        }
      ]
    },
    {
      "cell_type": "code",
      "source": [
        "# Preenchendo uma matriz com valores digitados pelo usuário\n",
        "\n",
        "for i in range(3):\n",
        "  for j in range(4):\n",
        "    mat[i][j] = int(input(f'Digite um valor para a posição : {i},{j}: '))"
      ],
      "metadata": {
        "colab": {
          "base_uri": "https://localhost:8080/"
        },
        "id": "4b0b1fWsENgC",
        "outputId": "2330b77d-ef0b-42a5-f059-315187dbe414"
      },
      "execution_count": null,
      "outputs": [
        {
          "name": "stdout",
          "output_type": "stream",
          "text": [
            "Digite um valor para a posição : 0,0: 1\n",
            "Digite um valor para a posição : 0,1: 2\n",
            "Digite um valor para a posição : 0,2: 3\n",
            "Digite um valor para a posição : 0,3: 4\n",
            "Digite um valor para a posição : 1,0: 5\n",
            "Digite um valor para a posição : 1,1: 6\n",
            "Digite um valor para a posição : 1,2: 7\n",
            "Digite um valor para a posição : 1,3: 8\n",
            "Digite um valor para a posição : 2,0: 9\n",
            "Digite um valor para a posição : 2,1: 10\n",
            "Digite um valor para a posição : 2,2: 11\n",
            "Digite um valor para a posição : 2,3: 12\n"
          ]
        }
      ]
    },
    {
      "cell_type": "code",
      "source": [
        "mat"
      ],
      "metadata": {
        "colab": {
          "base_uri": "https://localhost:8080/"
        },
        "id": "AmVk44m1FKr7",
        "outputId": "9ae6f77b-6f3b-4b8a-fa0e-6c4450c9abc6"
      },
      "execution_count": null,
      "outputs": [
        {
          "output_type": "execute_result",
          "data": {
            "text/plain": [
              "[[1, 2, 3, 4], [5, 6, 7, 8], [9, 10, 11, 12]]"
            ]
          },
          "metadata": {},
          "execution_count": 10
        }
      ]
    },
    {
      "cell_type": "markdown",
      "source": [
        "![image.png](data:image/png;base64,iVBORw0KGgoAAAANSUhEUgAAAVIAAADLCAYAAAA8yxvQAAAAAXNSR0IArs4c6QAAAARnQU1BAACxjwv8YQUAAAAJcEhZcwAAEnQAABJ0Ad5mH3gAABtPSURBVHhe7d1rjFVX2QfwZ95ogjEOAm2tDXdoFKeEBmiRAh9ouAzUD1VIZ9BGSdFSqKlFKCpItabSgsgQE2GmoQ1RK9AO+kG5OViiUCpXwZZiRGjTkvgFpED8fN79X+dZM2vOnDPnzKx9zr79f8nOrL3PHtq9Zu9nr/upywWEiIj67f/0JxER9RMDKRGRJwZSIiJPDKRERJ4YSImIPDGQEhF5YiAlIvLEQEpE5ImBlIjIEwMpEZEnBlIiIk8MpEREnhhIiYg8MZASEXlKxTJ63/ve92TAgAG6R/Duu+/KF77wBd0jYJ70dP78eWloaNA9gnfeeUf27Nmje5VJRSC999575ctf/rJ85jOf0SP0s5/9TL7xjW/IHXfcoUcIebJ48WK5/fbb9Qht3LhRHnvsMbntttv0CL344ovyl7/8RUaMGKFHKoBAmnTTp0/P/fOf/9Q9ggceeCD3r3/9S/cIpk6dmvv3v/+tewRTpkzJXb58WfcIJk+enHv//fd1rzJsIyUi8sRASkTkiYGUiMgTAykRkScGUiIiTwykRESeGEiJiDwxkBIReWIgJSLyxEAaonPnzsngwYOlrq5OGhsb9Wj2HD16VJYvXy5jx441eYEN+dLc3Cz79u3Ts7KltzzBZ5R3+fLlzmcIW1IwkIYEQXTmzJly/fp1PZJNa9eulRkzZsi2bdvk0qVLelRMvuzevVseeughEzyuXbumn6RfuTzBZ3jxZilPSsHLJonPEANpCNra2hhEA1gAY/369SY9aNAgWbZsmWzYsMFsa9asMccAwWPdunUmnXYIom6eIB/27t0rR44cMfkyZswY89nBgwfla1/7mkln1a5du0w+JJLOuU+0KBYtOXv2bK61tTUXPAhYPctsWOzApufOnatnRqPWi5YEJa3Oaw8ChsmfQlevXjWf2fOKnVNNtV60xM0T3CfYL4Q8ce+bIMDqJ7URl0VLCu8Nu0WBi5bUENZAfeKJJzqrakHmy4EDB0w6izo6OjQlsnXrVpkwYYLudRkyZIj5zEps6aNCbp48//zzMnr0aN3rgjxpaWnRPZFjx45pKluefPJJU6NDqR3PUtIwkHpC1Wznzp1y8uRJ81Bk1eHDhzUlMnv2bE31NG7cOE2JnDlzRlPpdOPGDU31nidBjUpT2YQOSDT3wG9+85tEPkcMpP2E9i2URoOqouk8ybqPPvpIU/lSVilDhw7VVPffSaPVq1ejbmq23vIEPdVZhQ62Rx991KSbmppk/vz5Jp001QmkWKZ/3jwRDF/ANnCgBNFG5NAhPSH5UHUtVlXLKjRr2KDRmwsXLmhKZNKkSZrKthMnTmhKZPjw4ZrKhs2bN3dW6X/5y1/q0eQJP5Bu2SKycCGeLD0QuHkTXbWo3+Q/p8zav3+/pkTGjx+vqezCsDkM+QG0DWapdoPxs3ZEA9rOk9w0Fm4gRYlzxQrdKeFHP0LjmO5QlqAah7GUgBJIb+2GaYVqPAII2gUxNMoOm0Nb+/bt2/Ws9MO9gO/Pgrlz5yb+BRJuIHVvhPp6dFtiAIOI0ytpSqdtbbpDWWJ7ZuGFF17IZOdce3u7GYCPiQkojSE/MLb0+PHjRUc6pBWq9OhjwAvVHcmRVOEGUu15M/CGmTUrn376aRF3yqRTvaNsQPXV9syiBLJ06VKTJjEBFYPxUc3PArdKjxdqGvoawgukhd8DPWWKJtTUqZoIfPghq/cZgiBqq/RoB3z11VdNOovcnvyzZ8+a0R8olWFMLar5WQimK7T5D/dCWl6o4QVSBEcXeupdDQ2aUO+9pwlKs8Igit79LFbpi0FVHoHVjsFFNX/BggUmnVaYRnzq1CmTTlObcHiB9MoVTaiU3xBUHoNoZRBQsS4BoN0wraVSXBdmBAJK4mlqEw63jZRIZT2Ioh3QLgWHUlg5I0eO1JTIrVu3NJUuaA91IV+KbZjkYrnHYy0XlpUr0T/ftRVqb+/+OfZDEsWiJaUgS7FlbdESV1C66pYPWJAiDmq9aInNg6amJj1SWlBC6zy/lguX1HLREtwL9hr7s9VK8OKPcNESZ+qfUdj5RKmHsYFYV9OWRFFdzXJ1HiVxwGiFctNA33jjDU2J3HXXXZqipAgvkA4bpgnlLNhgnD+vCTVqlCYoDWwQtSs6IYimYXygj29+85uays8jRx4V467DiYH5aZ167E4j7m3D8DjLPR5n4QXSws6l48c1od56SxMBBN2JE3WHks4GUdsbi+E8aPNz27dKbWlesANDe2ypFHlz9913m9lMmNWENlQsCI58W7RokTkHduzYoSlKlCDSh6exEe+N/FZfn8t1dOSPt7R0Hcf2+OP54yFhG2lPtWwjRZueve6+brVsD6x1GymgfRhtpMWu3d2Cl09u7969+lu1E5eFnV1uW2oUom0jhZUrNRHAVFDMpcbqT+78e0wd5awWygi0D6Pqjq8WQXMHqu4uVGNbW1vl4sWLiV1CjsIe/oQpoe68+mKeey7V1frg5WQ2tAdlBRYmttfd1y0rixrjOtFmjKE97vXjPkETAMfXdnHbUpMi3EAKmFff3t59bj1KoU1N+UVM8DkRUYqEH0gBHU9YmARvFGzowQ+qN52LmBARpUh1AikRUYYwkBIReWIgJSLyxEBKROSJgZSIyBMDKRGRJwZSIiJPDKRERJ4YSImIPNXlkjShtYT77rtPvv71r3NBXAeWa/v2t78tn/3sZ/UI4fvjn3rqKbnzzjv1CP3gBz8w3+p5xx136BHC90r9+c9/lhEjRuiR8lIRSLHOI4Lppz/9aT1Cv//97+XBBx+UgYXf5pphv/vd72TWrFlSj7UfyGCe9NTe3i4nT57sUyDFCiuJF6f1SOMiyu9siqso1iONuziuRxq16NcjJSLKIAZSIiJPDKRERJ4YSImIPDGQEhF5YiAlIvLEQEpE5ImBlIjIEwMpEZEnBtJ+2rhxo9TV1VW8Zc2uXbukubm5Wx40NjaafLt27ZqelV5Hjx7tdu192fC7WXD58mWzJgSmd9trHzt2rCxfvlzOnTunZyUDAymFCkESD8aiRYtk9+7dejTv4MGDZkEIrI2QlWBBxeFFO2bMGFm/fr2cOnVKj4pcunRJtm3bJvfee68JskmRikVLZsyYIdu3b5fPfe5zeqT6ULpCYMDN8Pjjj+vR0lavXq2p2pg2bZrs2LHDBK1aQRBFvtgHA3nzzDPPSENDg1y5ckX++te/mocEBg0aJIcPH5YJEyaY/Vp44IEH5Ne//rX5/6o2lLaw+EWl3njjDXM/wdmzZ2uWL1/84hdl586dMmrUKD1Sffv27ZOHHnrIpHEfLFu2TObNm2f2z58/b1akun79utnfsGFDzZ8dFATwt+OiJTUwd+5cvIBywU2gR+IlikVL1qxZY/Kkt3wJHtrOc5qamvRobcR50ZIguJs8wX1VS1EsWmKvNQiiueCloUe7XL16tds52K+l+C1acuiQCJZxq6vLb6tW6QfpMXLkSE1lG0pgqKYBSnxbt2416UJoNw2ChUkXVv2zCtVcVGlh8eLF5mdaoe3TXitKosVK3kOGDDE1GUDJ9MKFCyYdZ9ULpHv2iCxYIHLzph5IlxMnTmiKoKOjQ1Mizz//vKaKO3DgAGpCZiORH/7wh+YnXkB40aTZrVu3NIUyVum1ctEcZKG6H3fhB9JXXhFBe8fChakNomDbcIYPH25+Zh0WkrZmz56tKSoH7YW2hFbuBZRVw4YN01R8hRtIUXVfsgRFDj2QfkOHDtVUttkS+uTJk03VjCrzi1/8wvxEp0sWXkDjxo3TlMj777+vqZ7279+vKZHPf/7zmoqv6raRtrRoIl0Kx0GijQu91e5YQOy3tbVlYswk2BK6DaK4bowZdccIDh482IwR5NCnPOSD7an//ve/n4kXEK4RbaOAERzF7gW0o9rRHWhPHz16tEnHmulyCsvKlblcfX0uh97Y06fzx/CfsBs+r4Ja99ofOXLE9ChiQw+fTRfbSvVMVlste+3d/NiwYYPpmcd1u/lQuOG8Wotbr70d+YGt1j3TVhS99rhW97nBaA/cQ9hwX9h7B+dEkS/96bUPN5AWE2RI55bCQIoND0Rra2vnzYC0+5Dgxrh06ZL+dm1EFUjdBwR5gAcDn+/du9cMibKfYcOxWopTIMXL1eZDlEPoovrOJgTIwvvB3TA0LqqXCwNpjbiBA0GzFPdGqfXDElUgxYYxgDhWjDuOFC+YWopTIHXvjVq/ZF1RlUhRCi1Xa8E5LJFaQYZ0bikJpH1hBxZjq+VNEWWJtNx1orRhzy8VcKshLoEUgdNef5SlUah1IMW94dZacP1u0xfyBrUY+3kl91PY+hNIq9vZRBIEDU1JIgYW94fbEztnzpyynSYPP/ywpkSOHTumqezYtGmTpkS++tWvaiobNm/e3DmFOKjNmYkb7qB8dCxhSiimrQLOXbdunUnHGQNplfU26Dgt3MB5+vRpTZWW5SFjmAHm9kgHtSmTzgp77Zh8sHTpUpMuBhMTbCEEvxP30S8MpBQKBAXgjK/euQuZPPXUU5rKBrxE7DA5LJdXzsSJEzUV/9ocA2kfYdybHRdZyTJfvQ06TpNJkyaZn3hQyo0TdavzWZoZhlLViy++aNIokc2fP9+kKfkYSPvIrYqVW3QDDw4G68OgQYNSXY1bghltqtxUx5deeklTIvfff7+m0u/ll1/uLJFlcToo2j/xHABqLuWq6+594rbDxxEDaT/YthvMkcZMnVLQSG4fHMxcSTM8JMt0xgpm65TKF8z2Qr4BmgMSMWslBG5pFMEk7YuTlGKvG88Fno9SwRT3j3ufxH7Wl/beVw/+E3ZLyfAnDNFwx8BhiJMdeI4NaXfYUxRDOKJYjxTXWJgvdqICxo9igL79DOchH2spyuFP7vhZ3B9xEcXwp8J7pHBmk/vs4Nxazwzsz/AnBtJ+wh/XHQ9XakPwqHUQhSgCKVSSL1E8HBBlILXBAdcexf1QShQD8it9dpBnUdwn/Qmk1a/au6HUGT+XdBj7dvLkSTPeDVX94I+un+SrbjiGz7D2ZhYWo7DcfLE9+Rb2MXbw4sWLNfsqjThwF25G1TZL90MxlT47wUsvOfeJBtREi6JEGndRlUjjLE5TROMiqrn2cRbPEikRUcoxkBIReWIgJSLyxEBKROSJgZSIyBMDKRGRJwZSIiJPDKRERJ4YSImIPDGQEhF5YiAlIvJUh3mimk6sGTNmyLPPPiujRo3SI4SFHzZs2CAjR47UI/TII4+YL57L0qr85SxcuFC2bNmS6e/RKvSVr3xF/vCHP8iIESP0SHmpCKR33XWX3HnnnfKJT3xCj9Dbb78td999twwYMECPEPOkJ+ZJT//4xz/knXfe6VMg5epPKcXVn3ri6k89cfWnnrj6ExFRBBhIiYg8MZASEXliICUi8sRASkTkiYGUiMgTAykRkScGUiIiTwykRESeGEiJiDwxkHo6evSoNDc3y+DBg6Wurs5s9913n6xdu1YuX76sZ6XTtWvXzLXa6+4L5A3yaOzYsZ2/j/Ty5csTnW8+eeI6d+5c5z3V2NioR5PJJ0/wfOGecO8T5AueuX379ulZMaBTRRMtirn2V69ezTU1NWHBl5LboEGDcjt37tTfqK1qz7XH9WNOsnu9ldq7d6/JG/d3C7dq5Fu159r75Inr7Nmz3fJn7ty5+kn4qj3X3idP1qxZ0+33im14BvHfCBPn2tfQk08+Kbt37zbpMWPGmCXrjhw5IkGQkGXLlpnj169fl0WLFsXrzRkClBKCB1BOnTqlRyqHktajjz5q8gaw3F8QNM1m8w2Qb/jvJIVPnrja2tpk5syZnfmTZD55snHjRlm/fr1JBy8Vc2/gGcMWBFhzDPAMrlu3zqQjpQE10WpdIkVpCVmHDW+vYm9Et1SBn2G/NcsJu0R66dIlc90oHdlrx3UFL5HO/Uq4v9/a2qpHu7h5i387TGGXSMPKE9wryAv399xSXJJKpGHkCf4N93eRP4XwPOEze16xc/qrPyXS6gTSl1/O5RobsdBp14b9lhY9IVy1DqTuTY4/eil4OOx5wZtUj9ZG2IEU///2WrDZG9x9YMrB+fbc3oJDUProPA/NAGEJO5CGkSfgno/Nvpztfm955SvsQBpGnrjPDYJyKe5LN8znqz+BNPyqfXOzyJIlIgcO6AGF/RUr8p8nGBrObVUluDlk9OjRJl3M0qVLO6sgr7/+uvmZdLie4KaVixcvyoQJE/RoZV577TVNiSxevFhTPX3pS1/SlMgf//hHTcWXT564glKbaeI4efKkDBkyRI8mk0+eHD58WFMis2fP1lRP48aN05TImTNnNBWNcAPpli1otNCdEvA5zkuoCxcuaErkwQcf1FRp6F0EBF8E4aTCV1IEJQv573//K6tXr+7Xg3769GlN9f6AzJ8/X1Mif/rTnzQVP2HkCSDgBDUbCUrLnfdLUoWRJx999JGmpNffd78exf2dKIQbSLdv10SgoQFPDgry+Z/19fpBwD0v5dzvTHKDcNKg5O1T2oKDBw+anyitlHvAUNoHBJi4CiNPAP9GbzWbJAkjTw4Etdegtmy23rjP06RJkzQVjXAD6fnzmgh897siEyfm0/j5rW/l0+CelzCf+tSnNFVZdeKee+7RFC47udcdpvvvv19TlUlS7z3Vzv79+zUlMn78eE1FI7xAumePJtRjj2kiXdy3Laqd5arrbhvfjRs3NJU9fQ2GUZcwKN7w3G3bts2kUcPpramoFsILpAsW5Kvxdit05YomAsOGaSKZ3HGipcaw4Q+N9i77x6a+GThwoKaIesI4bjvW9oUXXuh3+3RYwq3al3LoUPdOqEce0UQyrVq1yrwFAYESU/gwkBqlrl27dpkpbfiKWwwWnjx5sjmPiMKB58tOhkFbOkbHRK36gfTDD0Weflp3AiiNfuc7upNMaFDHEA0bTNGJ8sQTT8iMGTPMjBwEV7wtMQOjpaXFnEN9k+VmECoNQdTW8lBIefXVV006atUNpOiMmTevq3MJPfevvJL4qj2grRRj5DB0xS11Yiwgqv7obf7pT38qx44d009Ehg8frqnsmT59uqYq4w6VIoLCIIre/air9Fb1Aimq8zNndg+i6JCaNSu/nwL4I2KsHAZQ2+EaGAu4devWosNZ3HFvWXbixAlNVcYdeE3ZFOcgCtUJpAii6Hy6eTO/n8IgWil3RlNfS2VpY8eGotmj3GiHvow5pXSLexCF8AMpAqYbRDEwH1O+MhhEsa6mnU6KVY6yzh3S1NHRoame3NWy5syZoynKIjeI4kUcxyAK4QZSTP1cuLB7EMWgWTswPwVQkrILzJabzrdp0yZNiTz88MOayq5HnNEaO3bs0FRPv/rVrzTFfMsqPGcYDWODKPod4hpEIbxAik4kLEpSaNEi1Gl7bgmdb48/pK2iYggGhjsVg+NudSTpc6jDgA46m3eoumPIWCHkm7vOK/Mte2wQtc07CKLod4iz8ALpu+9qwoGOpjffLL65A/QTBj31FoY7ofqBAIBxpAgOuAlwHNDGtz1DawuUg7yzw8YwZMyOwbXjb22+QW+lVkonG0RtkxjuFaxXgYWey22RfkVNLiwrV7rzmspvOD8kUXzVCNZCDP7IwaV0rb1YuGExW6zFGIVqf9WIFZQwO6+3Umn9qhGrP3lSjP038O9VS9jrkZZSaZ4cOXKk87y+bvjdMAQ1yAjXI0V7YM9wWXpz2g+TCFXOYuNIAdXX1tZWOX78uPdKOGmEZfJQ4sCEBVTfLXcMLqv0lCgaUBMtihJp3NWqRJoktSqRJkmtSqRJEm2JlIgooxhIiYg8MZASEXliICUi8sRASkTkiYGUiMgTAykRkScGUiIiTwykRESeGEiJiDwxkBIRearDPFFNJ9Ztt90mAwYMkI9//ON6hP7zn/+YfGGedEGe3H777fKxj31MjxDzpCfkyd///vc+fVdYKgIp/O9//9MUEZGfT37yk5qqTGoCKRFRVNhGSkTkiYGUiMgTAykRkScGUiIiTwykRESeGEiJiDwxkBIReWIgJSLyxEBKROSJgZSIyBMDaV/t2SMyb55IXV1+GzhQpLlZ5NAhPYG6Qb4gj2x+rVqlH2QM8gH3iZsX99wj8pOfiHz4oZ6UIWfO5PNj+PCu/EAax/CMJQ3m2lOFWlqwMEHpDZ9Tl/b2XK6+vnserVypH2ZIufumoSGX++ADPTkDyuUHtoTdJ1y0pFIoUcyerTsl1NeLHD4sMnGiHsioV14Ref11kQMH9IBj5UqRTZt0JwNQ8po0SXd60dQksmuX7qRYsfyYNi3/88038z+t9naRBQt0J95Yta/U9u2aCCBgdnTk350tLXowcPOmSFub7mQUqu5LlhQPolnk3g+4bxAccN988EFXAIHdu7NRxf/tbzURsM/R0aP57fTp/DHrrbc0EX8MpJXCjW6hHWfWrHz66adFGhvzadi/XxNkuC+aLDp/XhMB3De2hDVsmMiKFfm0deKEJlLsb3/TRMB9jgA1ufHjdSdZGEgrUdj4PWWKJtTUqZoIoFSB6kuWoVSBqipKGHjRZJlbXZ0zRxMZhpKnbQktrL2h+eztt3UnMHSoJuKPgbQShVUu9Ly6Gho0od57TxMZhPbPGzfy7X1ZbysGGzSwFbb3Fd5Xo0ZpIkMQPKdPz2/og0DzGOBFnKCXMANpJa5c0YRKSAM4xRiC6ObNuhNAe2kWXzx46aLUbkvuqM2gQzJhHW8MpERReOaZ7iXSH/9YExmHEunPfy6ydKkeSAYGUqJaQvBEJ4vbeYkOObfTJUtQu0OzB0YxPPecHgy89FKiJm8wkFaisNE7iTMvKHoIopgVVxhEs94hBxjF8Oyz+bZR67XXNBF/DKSVwB/ZhXYdlzvEBbLYaUC9s0HUvVcYRHtyCy1u00fMMZBWorBz6fhxTSh34DCCLnuryYXhcG4QtQPzsxZEkQ92Xj22YsMEb93SRLIwkFbKHXSPHkUM24AtW7rP4sEDQ2ThPpk5s3sQRdNQFkd+oIDhzlxau7Z7qROB1e2tLxxWGGOca18pzrXvP5Q+rCzNtUdgQBC1YyMBNRasclQMAkfapxijNx4dSa5Sc+2T1PSBQEoV4upP/ePmUZZWf8LqV+61l9umTdNfTDGscoXrLHb97tbUpL+QDKza9wXejmjbcqv5KIWipxGLL7DjgKh3KJFjmihKm3iO3Ko+PsMxPGMJG5DPqj0RkSeWSImIPDGQEhF5YiAlIvLEQEpE5ImBlIjIEwMpEZEnBlIiIk8MpEREnhhIiYg8MZASEXliICUi8sRASkTkiYGUiMgTAykRkScGUiIiTwykRESeGEiJiDwxkBIReRH5fwnAxly30lCAAAAAAElFTkSuQmCC)"
      ],
      "metadata": {
        "id": "u32o5RrNFdMK"
      }
    },
    {
      "cell_type": "code",
      "source": [
        "# exibindo todos os valores da matriz\n",
        "for i in range(3):\n",
        "  for j in range(4):\n",
        "    print(mat[i][j],'  ',end='')\n",
        "  print()"
      ],
      "metadata": {
        "colab": {
          "base_uri": "https://localhost:8080/"
        },
        "id": "mzkzfPvLFeql",
        "outputId": "246e86ce-be03-4095-83fe-0e7aa12a680a"
      },
      "execution_count": null,
      "outputs": [
        {
          "output_type": "stream",
          "name": "stdout",
          "text": [
            "1   2   3   4   \n",
            "5   6   7   8   \n",
            "9   10   11   12   \n"
          ]
        }
      ]
    },
    {
      "cell_type": "markdown",
      "source": [
        "## função para preencher matriz\n"
      ],
      "metadata": {
        "id": "KTvIjvqQV45n"
      }
    },
    {
      "cell_type": "code",
      "source": [
        "import random\n",
        "def cria_matriz(linhas, colunas):\n",
        "  matriz = []\n",
        "  for i in range(linhas):\n",
        "    col = []\n",
        "    for j in range(colunas):\n",
        "      col.append(random.randint(0,9))\n",
        "    matriz.append(col)\n",
        "  print(\"matriz pronta\")\n",
        "  return matriz\n",
        "# n x m\n",
        "n = int(input(\"Digite a dimensão n da matriz: \")) # num linhas\n",
        "m = int(input(\"Digite a dimensão m da matriz: \")) # num colunas\n",
        "\n",
        "print(cria_matriz(n, m))"
      ],
      "metadata": {
        "id": "JH5riXpnV8jp",
        "colab": {
          "base_uri": "https://localhost:8080/"
        },
        "outputId": "7374c318-aa15-4dd1-8b20-d9c069a6e132"
      },
      "execution_count": 5,
      "outputs": [
        {
          "output_type": "stream",
          "name": "stdout",
          "text": [
            "Digite a dimensão n da matriz: 2\n",
            "Digite a dimensão m da matriz: 3\n",
            "matriz pronta\n",
            "[[4, 9, 0], [1, 3, 4]]\n"
          ]
        }
      ]
    },
    {
      "cell_type": "markdown",
      "source": [
        "## função para mostrar matriz\n"
      ],
      "metadata": {
        "id": "e7fFBgQ3ncQT"
      }
    },
    {
      "cell_type": "code",
      "source": [
        "def show_matriz(m):\n",
        "  for i in range(len(m)):\n",
        "    print(g[i])\n",
        "\n",
        "show_matriz([[4, 9, 0], [1, 3, 4]])"
      ],
      "metadata": {
        "colab": {
          "base_uri": "https://localhost:8080/"
        },
        "id": "Kr9c1hchnfHr",
        "outputId": "94ce2390-02c8-4470-ef43-2fd912cd8b83"
      },
      "execution_count": 22,
      "outputs": [
        {
          "output_type": "stream",
          "name": "stdout",
          "text": [
            "[8, 4, 1]\n",
            "[3, 6, 4]\n"
          ]
        }
      ]
    },
    {
      "cell_type": "markdown",
      "source": [
        "# **Exercícios**"
      ],
      "metadata": {
        "id": "c-Im8jgoHwN2"
      }
    },
    {
      "cell_type": "markdown",
      "source": [
        "1- **Soma de Matrizes**. Escreva uma função que some duas matrizes bidimensionais de mesma dimensão."
      ],
      "metadata": {
        "id": "zfwTeaD6Hyzn"
      }
    },
    {
      "cell_type": "code",
      "source": [
        "a = [[1,3],[2,4]]\n",
        "b = [[6,7],[6,8]]\n",
        "def soma_matriz(mat_a, mat_b):\n",
        "  matriz_resultante = []\n",
        "  for i in range(len(mat_a)):\n",
        "    lin = []\n",
        "    valor = 0\n",
        "    for j in range(len(mat_a[0])):\n",
        "      valor = mat_a[i][j] + mat_b[i][j]\n",
        "      lin.append(valor)\n",
        "    matriz_resultante.append(lin)\n",
        "  print(\"resultado\")\n",
        "  return matriz_resultante\n",
        "print(soma_matriz(a,b))\n",
        "print(\"criando as matrizes\")\n",
        "c = cria_matriz(3,3)\n",
        "print(c)\n",
        "d = cria_matriz(3,3)\n",
        "print(d)\n",
        "print(soma_matriz(c,d))\n",
        "\n"
      ],
      "metadata": {
        "id": "LfH4ZrS9H5Wv",
        "colab": {
          "base_uri": "https://localhost:8080/"
        },
        "outputId": "b7cdd530-e588-488b-ba3b-c91694cf64e2"
      },
      "execution_count": 8,
      "outputs": [
        {
          "output_type": "stream",
          "name": "stdout",
          "text": [
            "resultado\n",
            "[[7, 10], [8, 12]]\n",
            "criando as matrizes\n",
            "matriz pronta\n",
            "[[2, 1, 4], [5, 8, 4], [4, 8, 9]]\n",
            "matriz pronta\n",
            "[[5, 7, 7], [5, 9, 6], [3, 8, 1]]\n",
            "resultado\n",
            "[[7, 8, 11], [10, 17, 10], [7, 16, 10]]\n"
          ]
        }
      ]
    },
    {
      "cell_type": "markdown",
      "source": [
        "2- **Multiplicação de Matrizes**. Escreva uma função que multiplique duas matrizes bidimensionais, desde que o número de colunas da primeira matriz seja igual ao número de linhas da segunda."
      ],
      "metadata": {
        "id": "TXAR4jKSH9EO"
      }
    },
    {
      "cell_type": "code",
      "source": [
        "def mult_matriz(mat_a, mat_b):\n",
        "  if len(mat_a) == len(mat_b):\n",
        "    if(len(mat_a[0]) == len(mat_a[0])):\n",
        "      matriz_resultante = []\n",
        "      for i in range(len(mat_a)):\n",
        "        lin = []\n",
        "        valor = 0\n",
        "        for j in range(len(mat_a[0])):\n",
        "          valor = mat_a[i][j] * mat_b[i][j]\n",
        "          lin.append(valor)\n",
        "        matriz_resultante.append(lin)\n",
        "      print(\"resultado\")\n",
        "      return matriz_resultante\n",
        "  print(\"as matrizes não são iguais\")\n",
        "  return 0\n",
        "\n",
        "show_matriz(mult_matriz(a,b))\n",
        "print()\n",
        "c = cria_matriz(1,2)\n",
        "show_matriz(c)\n",
        "d = cria_matriz(3,3)\n",
        "show_matriz(d)\n",
        "\n",
        "print(mult_matriz(c,d))\n",
        "print()\n",
        "print(\"matrizes diferentes\")\n",
        "e = cria_matriz(1,2)\n",
        "show_matriz(e)\n",
        "f = cria_matriz(3,2)\n",
        "show_matriz(f)\n",
        "\n",
        "print(mult_matriz(c,d))"
      ],
      "metadata": {
        "id": "_tRDkNv2IGrX",
        "colab": {
          "base_uri": "https://localhost:8080/"
        },
        "outputId": "4982ea36-2887-42bb-c664-3570a9389ebe"
      },
      "execution_count": 23,
      "outputs": [
        {
          "output_type": "stream",
          "name": "stdout",
          "text": [
            "resultado\n",
            "[[6, 21], [12, 32]]\n",
            "\n",
            "matriz pronta\n",
            "[8, 4, 1]\n",
            "matriz pronta\n",
            "[8, 4, 1]\n",
            "[3, 6, 4]\n",
            "[5, 7, 9]\n",
            "as matrizes não são iguais\n",
            "0\n",
            "\n",
            "matrizes diferentes\n",
            "matriz pronta\n",
            "[8, 4, 1]\n",
            "matriz pronta\n",
            "[8, 4, 1]\n",
            "[3, 6, 4]\n",
            "[5, 7, 9]\n",
            "as matrizes não são iguais\n",
            "0\n"
          ]
        }
      ]
    },
    {
      "cell_type": "markdown",
      "source": [
        "3- **Transposição de Matriz**. Escreva uma função que transponha uma matriz bidimensional."
      ],
      "metadata": {
        "id": "S-Vk9DxRIJFn"
      }
    },
    {
      "cell_type": "code",
      "source": [
        "def tran_matriz(matriz_inicio):\n",
        "      matriz_resultante = []\n",
        "      for i in range(len(matriz_inicio)):\n",
        "        linha = []\n",
        "        for j in range(len(matriz_inicio[0])):\n",
        "          valor = matriz_inicio[j][i]\n",
        "          linha.append(valor)\n",
        "        matriz_resultante.append(linha)\n",
        "      print(\"resultado\")\n",
        "      return matriz_resultante\n",
        "\n",
        "g = cria_matriz(3,3)\n",
        "show_matriz(g)\n",
        "h = tran_matriz(g)\n",
        "show_matriz(h)"
      ],
      "metadata": {
        "id": "ZWoyeVzsITGe",
        "colab": {
          "base_uri": "https://localhost:8080/"
        },
        "outputId": "c0d66a85-61e9-42ef-9051-b4c325769ff3"
      },
      "execution_count": 19,
      "outputs": [
        {
          "output_type": "stream",
          "name": "stdout",
          "text": [
            "matriz pronta\n",
            "[8, 4, 1]\n",
            "[3, 6, 4]\n",
            "[5, 7, 9]\n",
            "resultado\n",
            "[8, 3, 5]\n",
            "[4, 6, 7]\n",
            "[1, 4, 9]\n"
          ]
        }
      ]
    },
    {
      "cell_type": "markdown",
      "source": [
        "4- **Busca em Matriz**. Escreva uma função que encontre a posição de um determinado elemento em uma matriz bidimensional."
      ],
      "metadata": {
        "id": "SOaCL9K-IVYn"
      }
    },
    {
      "cell_type": "code",
      "source": [
        "def search_matriz(matriz,num):\n",
        "  posicao = \"Não encontramos na matriz\"\n",
        "  for i in range(len(matriz)):\n",
        "    for j in range(len(matriz[0])):\n",
        "      if num == matriz[i][j]:\n",
        "        return f\"Encontrado na posição ({i}, {j})\"\n",
        "  return f\"Nao esta na matriz\"\n",
        "\n",
        "g = cria_matriz(3,3)\n",
        "show_matriz(g)\n",
        "num = int(input(\"Digite o numero para acha-lo: \"))\n",
        "print(search_matriz(g,num))\n",
        "\n",
        "g = cria_matriz(8,8)\n",
        "show_matriz(g)\n",
        "num = int(input(\"Digite o numero para acha-lo: \"))\n",
        "print(search_matriz(g,num))"
      ],
      "metadata": {
        "id": "rDUYIeY6Id6u",
        "colab": {
          "base_uri": "https://localhost:8080/"
        },
        "outputId": "6b82a74a-ad03-4d36-9831-bf5a66092f76"
      },
      "execution_count": 41,
      "outputs": [
        {
          "output_type": "stream",
          "name": "stdout",
          "text": [
            "matriz pronta\n",
            "[4, 9, 0]\n",
            "[4, 2, 7]\n",
            "[6, 5, 9]\n",
            "Digite o numero para acha-lo: 9\n",
            "Encontrado na posição (0, 1)\n",
            "matriz pronta\n",
            "[1, 9, 3, 2, 2, 9, 9, 6]\n",
            "[5, 5, 5, 0, 6, 4, 3, 1]\n",
            "[2, 7, 5, 4, 2, 3, 4, 6]\n",
            "[3, 8, 9, 3, 5, 5, 0, 1]\n",
            "[3, 2, 6, 9, 7, 0, 3, 2]\n",
            "[4, 9, 1, 8, 5, 6, 9, 4]\n",
            "[4, 0, 8, 3, 7, 2, 2, 2]\n",
            "[0, 5, 4, 2, 3, 9, 0, 4]\n",
            "Digite o numero para acha-lo: 8\n",
            "Encontrado na posição (3, 1)\n"
          ]
        }
      ]
    },
    {
      "cell_type": "markdown",
      "source": [
        "# **DESAFIO**"
      ],
      "metadata": {
        "id": "3KP1dFLtLqSS"
      }
    },
    {
      "cell_type": "markdown",
      "source": [
        "Uma pista de Kart permite 10 voltas para cada um de 6 corredores. Faça um programa que leia os nomes e os tempos (em segundos) de cada volta de cada corredor e guarde as informações em uma matriz. Ao final, o programa deve informar:\n",
        "\n",
        "- De quem foi a melhor volta da prova, e em que volta.\n",
        "- Classificação final em ordem crescente.\n",
        "- Qual foi a volta com a média mais rápida."
      ],
      "metadata": {
        "id": "C33PexCDLso8"
      }
    }
  ]
}