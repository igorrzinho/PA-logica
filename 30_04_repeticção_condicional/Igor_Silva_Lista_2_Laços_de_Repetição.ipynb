{
  "nbformat": 4,
  "nbformat_minor": 0,
  "metadata": {
    "colab": {
      "provenance": []
    },
    "kernelspec": {
      "name": "python3",
      "display_name": "Python 3"
    },
    "language_info": {
      "name": "python"
    }
  },
  "cells": [
    {
      "cell_type": "markdown",
      "source": [
        "1- Faça um programa que peça uma nota, entre zero e dez. Mostre uma mensagem caso o valor seja inválido e continue pedindo até que o usuário informe um valor válido."
      ],
      "metadata": {
        "id": "4xtRGDIMbF0z"
      }
    },
    {
      "cell_type": "code",
      "execution_count": null,
      "metadata": {
        "id": "nWgB0lvZa5xh",
        "colab": {
          "base_uri": "https://localhost:8080/"
        },
        "outputId": "44f2e079-853e-40af-a236-0c493152ff95"
      },
      "outputs": [
        {
          "output_type": "stream",
          "name": "stdout",
          "text": [
            "digite uma nota: -1\n",
            "NOTA INVALIDA\n",
            "Digite uma nota entre 0 e 10\n",
            "digite uma nota: -2\n",
            "NOTA INVALIDA\n",
            "Digite uma nota entre 0 e 10\n",
            "digite uma nota: 900\n",
            "NOTA INVALIDA\n",
            "Digite uma nota entre 0 e 10\n",
            "digite uma nota: 4\n",
            "Nota valida 4.0\n"
          ]
        }
      ],
      "source": [
        "repetir = True\n",
        "while(repetir):\n",
        "  nota = float(input(\"digite uma nota: \"))\n",
        "  if (nota < 0 or nota > 10):\n",
        "    print(\"NOTA INVALIDA\")\n",
        "    print(\"Digite uma nota entre 0 e 10\")\n",
        "\n",
        "  else:\n",
        "    print(\"Nota valida\", nota)\n",
        "    repetir = False"
      ]
    },
    {
      "cell_type": "markdown",
      "source": [
        "2- Faça um programa que leia um nome de usuário e a sua senha e não aceite a senha igual ao nome do usuário, mostrando uma mensagem de erro e voltando a pedir as informações."
      ],
      "metadata": {
        "id": "RIejwl4mbK7z"
      }
    },
    {
      "cell_type": "code",
      "source": [
        "repetir = True\n",
        "\n",
        "while (repetir):\n",
        "  user = input(\"Digite seu nome de usuario: \")\n",
        "  senha = input(\"Digite sua senha: \")\n",
        "  if(user == senha):\n",
        "    print(\"DIGITE UMA SENHA DIFERENTE DO USUARIO\")\n",
        "  else:\n",
        "    repetir = False"
      ],
      "metadata": {
        "id": "QVwlvuQDbREK",
        "colab": {
          "base_uri": "https://localhost:8080/"
        },
        "outputId": "2728fa2e-a22d-4072-b23f-cd76dc64a802"
      },
      "execution_count": null,
      "outputs": [
        {
          "name": "stdout",
          "output_type": "stream",
          "text": [
            "Digite seu nome de usuario: igor\n",
            "Digite sua senha: igor\n",
            "DIGITE UMA SENHA DIFERENTE DO USUARIO\n",
            "Digite seu nome de usuario: igor\n",
            "Digite sua senha: 0123\n"
          ]
        }
      ]
    },
    {
      "cell_type": "markdown",
      "source": [
        "3- Faça um programa que leia e valide as seguintes informações:\n",
        "*   Nome: maior que 3 caracteres;\n",
        "*   Idade: entre 0 e 150;\n",
        "*   Salário: maior que zero;\n",
        "*   Sexo: 'f' ou 'm';\n",
        "*   Estado Civil: 's', 'c', 'v', 'd';\n",
        "\n",
        "**Use a função `len(string)` para saber o tamanho de um texto (número de caracteres).**"
      ],
      "metadata": {
        "id": "IjjosQBibRzj"
      }
    },
    {
      "cell_type": "code",
      "source": [
        "#nome\n",
        "rnome = True\n",
        "while(rnome):\n",
        "  nome = input(\"Digite seu nome:\")\n",
        "  if (len(nome) > 3):\n",
        "    print(\"Nome valido:\", nome)\n",
        "    rnome = False\n",
        "  else:\n",
        "    print(\"Nome Invalido\")\n",
        "    print(\"Digite outro!\")\n",
        "# idade\n",
        "ridade = True\n",
        "while(ridade):\n",
        "  idade = int(input(\"Digite sua idade\"))\n",
        "  if(idade < 0 or idade > 150):\n",
        "    print(\"Idade Invalida\")\n",
        "    print(\"Digite outra!\")\n",
        "  else:\n",
        "    print(\"Idade valida\")\n",
        "    ridade = False\n",
        "# salario\n",
        "rsal = True\n",
        "while(rsal):\n",
        "  salario = float(input(\"Digite seu salario\"))\n",
        "  if(salario < 0 ):\n",
        "    print(\"Salario Invalido\")\n",
        "    print(\"Digite outro!\")\n",
        "  else:\n",
        "    print(\"Salario valido!\")\n",
        "    rsal = False\n",
        "\n",
        "# sexo\n",
        "rsexo = True\n",
        "while(rsexo):\n",
        "  print(\"Qual seu sexo\")\n",
        "  sexo = input(\"[M]masculino ou [F]femeninos\")\n",
        "  if ((sexo == 'M' or sexo == 'm') or (sexo == 'F' or sexo == 'f')):\n",
        "    print(\"sexo valido\")\n",
        "    rsexo = False\n",
        "  else:\n",
        "    print(\"Sexo invalido\")\n",
        "\n",
        "# estado civil\n",
        "resci = True\n",
        "while(resci):\n",
        "  esci = [\"s\",\"c\",\"v\",\"d\",\"S\",\"C\",\"V\",\"D\"]\n",
        "  print(\"S - solteiro(a)\")\n",
        "  print(\"C - casado(a)\")\n",
        "  print(\"V - viuvo(a)\")\n",
        "  print(\"D - divorciado(a)\")\n",
        "  ec = input(\"Digite qual seu estado civil: \")\n",
        "  if ec in esci:\n",
        "\n",
        "      print(\"Resposta valida!\")\n",
        "      resci = False\n",
        "  else:\n",
        "    print(\"Resposta invalida\")\n",
        "\n",
        "print(\"Seu nome é \", nome)\n",
        "print(\"Sua idade é \", idade)\n",
        "print(\"Seu salario é R$\", salario)\n",
        "print(\"Seu sexo é\", sexo)\n",
        "print(\"Seu estado civil é \", ec)\n"
      ],
      "metadata": {
        "id": "SZQsLLeMbtDS",
        "colab": {
          "base_uri": "https://localhost:8080/"
        },
        "outputId": "5874b247-9c5c-431b-db99-163a0b3d044f"
      },
      "execution_count": 7,
      "outputs": [
        {
          "output_type": "stream",
          "name": "stdout",
          "text": [
            "Digite seu nome:igor\n",
            "Nome valido: igor\n",
            "Digite sua idade18\n",
            "Idade valida\n",
            "Digite seu salario100\n",
            "Salario valido!\n",
            "Qual seu sexo\n",
            "[M]masculino ou [F]femeninosm\n",
            "sexo valido\n",
            "S - solteiro(a)\n",
            "C - casado(a)\n",
            "V - viuvo(a)\n",
            "D - divorciado(a)\n",
            "Digite qual seu estado civil: s\n",
            "Resposta valida!\n",
            "Seu nome é  igor\n",
            "Sua idade é  18\n",
            "Seu salario é R$ 100.0\n",
            "Seu estado civil é  s\n"
          ]
        }
      ]
    },
    {
      "cell_type": "markdown",
      "source": [
        "4- Supondo que a população de um país A seja da ordem de 80000 habitantes com uma taxa anual de crescimento de 3% e que a população de B seja 200000 habitantes com uma taxa de crescimento de 1.5%. Faça um programa que calcule e escreva o número de anos necessários para que a população do país A ultrapasse ou iguale a população do país B, mantidas as taxas de crescimento."
      ],
      "metadata": {
        "id": "yzuu9ZKubt1L"
      }
    },
    {
      "cell_type": "code",
      "source": [
        "ci_a = 80000\n",
        "ci_a_cre = 1.03\n",
        "ci_b = 200000\n",
        "ci_b_cre = 1.015\n",
        "\n",
        "i = 0\n",
        "while ci_a < ci_b:\n",
        "  i= i+1\n",
        "  print(i, \" anos\")\n",
        "  ci_a = ci_a * ci_a_cre\n",
        "  ci_b = ci_b * ci_b_cre\n",
        "print(\"São necessarios \", i+1, \"anos para a cidade A passar a cidade B\")"
      ],
      "metadata": {
        "id": "n_mSFkoqbzhb",
        "colab": {
          "base_uri": "https://localhost:8080/"
        },
        "outputId": "5517f817-4460-464c-8c86-a37ea822e118"
      },
      "execution_count": 16,
      "outputs": [
        {
          "output_type": "stream",
          "name": "stdout",
          "text": [
            "1  anos\n",
            "2  anos\n",
            "3  anos\n",
            "4  anos\n",
            "5  anos\n",
            "6  anos\n",
            "7  anos\n",
            "8  anos\n",
            "9  anos\n",
            "10  anos\n",
            "11  anos\n",
            "12  anos\n",
            "13  anos\n",
            "14  anos\n",
            "15  anos\n",
            "16  anos\n",
            "17  anos\n",
            "18  anos\n",
            "19  anos\n",
            "20  anos\n",
            "21  anos\n",
            "22  anos\n",
            "23  anos\n",
            "24  anos\n",
            "25  anos\n",
            "26  anos\n",
            "27  anos\n",
            "28  anos\n",
            "29  anos\n",
            "30  anos\n",
            "31  anos\n",
            "32  anos\n",
            "33  anos\n",
            "34  anos\n",
            "35  anos\n",
            "36  anos\n",
            "37  anos\n",
            "38  anos\n",
            "39  anos\n",
            "40  anos\n",
            "41  anos\n",
            "42  anos\n",
            "43  anos\n",
            "44  anos\n",
            "45  anos\n",
            "46  anos\n",
            "47  anos\n",
            "48  anos\n",
            "49  anos\n",
            "50  anos\n",
            "51  anos\n",
            "52  anos\n",
            "53  anos\n",
            "54  anos\n",
            "55  anos\n",
            "56  anos\n",
            "57  anos\n",
            "58  anos\n",
            "59  anos\n",
            "60  anos\n",
            "61  anos\n",
            "62  anos\n",
            "63  anos\n",
            "São necessarios  63 anos para a cidade A passar a cidade B\n"
          ]
        }
      ]
    },
    {
      "cell_type": "markdown",
      "source": [
        "5- Altere o programa anterior permitindo ao usuário informar as populações e as taxas de crescimento iniciais. Valide a entrada e permita repetir a operação."
      ],
      "metadata": {
        "id": "6S1XgUIZb0ty"
      }
    },
    {
      "cell_type": "code",
      "source": [
        "ci_a = int(input(\"Digite a população da cidade A: \"))\n",
        "ci_a_cre = float(input(\"Digite a taxa de crescimento dessa cidade A: \"))\n",
        "ci_b = int(input(\"Digite a população da cidade B: \"))\n",
        "ci_b_cre = float(input(\"Digite a taxa de crescimento dessa cidade B: \"))\n",
        "\n",
        "i = 0\n",
        "while ci_a < ci_b:\n",
        "  i= i+1\n",
        "  print(i, \" anos\")\n",
        "  ci_a = ci_a * ((ci_a_cre/100)+1)\n",
        "  ci_b = ci_b * ((ci_b_cre/100)+1)\n",
        "print(\"São necessarios \", i+1, \"anos para a cidade A passar a cidade B\")"
      ],
      "metadata": {
        "id": "TdSmj33rcPLS",
        "colab": {
          "base_uri": "https://localhost:8080/"
        },
        "outputId": "98eb084a-557c-46d5-f8c8-b08aa413d10d"
      },
      "execution_count": 20,
      "outputs": [
        {
          "output_type": "stream",
          "name": "stdout",
          "text": [
            "Digite a população da cidade A: 100\n",
            "Digite a taxa de crescimento dessa cidade A: 40\n",
            "Digite a população da cidade B: 140\n",
            "Digite a taxa de crescimento dessa cidade B: 30\n",
            "1  anos\n",
            "2  anos\n",
            "3  anos\n",
            "4  anos\n",
            "5  anos\n",
            "São necessarios  6 anos para a cidade A passar a cidade B\n"
          ]
        }
      ]
    },
    {
      "cell_type": "markdown",
      "source": [
        "6- Faça um programa que leia 5 números e informe a soma e a média dos números."
      ],
      "metadata": {
        "id": "h6Tf29KBcPxz"
      }
    },
    {
      "cell_type": "code",
      "source": [
        "rep = True\n",
        "total = 0\n",
        "for i in range(0,5):\n",
        "  num = float(input(\"Digite um numero: \"))\n",
        "  total = total + num\n",
        "print(\"Calculando...\")\n",
        "print(\"A soma é \",total)\n",
        "print(\"A media é \",total/5)"
      ],
      "metadata": {
        "id": "bo9EBxbfcXr5",
        "colab": {
          "base_uri": "https://localhost:8080/"
        },
        "outputId": "2176c3e5-a5d6-4a45-ae70-9af793ca8582"
      },
      "execution_count": 57,
      "outputs": [
        {
          "output_type": "stream",
          "name": "stdout",
          "text": [
            "Digite um numero: 10\n",
            "Digite um numero: 10\n",
            "Digite um numero: 10\n",
            "Digite um numero: 10\n",
            "Digite um numero: 10\n",
            "Calculando...\n",
            "A soma é  50.0\n",
            "A media é  10.0\n"
          ]
        }
      ]
    },
    {
      "cell_type": "markdown",
      "source": [
        "7- Faça um programa que receba dois números inteiros e gere os números inteiros que estão no intervalo compreendido por eles."
      ],
      "metadata": {
        "id": "vlg_Q0cGcYXS"
      }
    },
    {
      "cell_type": "code",
      "source": [
        "n1 = int(input(\"Digite um numero inteiro: \"))\n",
        "n2 = int(input(\"Digite outro numero inteiro: \"))\n",
        "if (n1 > n2):\n",
        "  for i in range(n2,n1):\n",
        "    print(i)\n",
        "elif (n2 > n1):\n",
        "  for i in range(n1,n2):\n",
        "    print(i)\n",
        "else:\n",
        "  print(\"Os numeros precisam ser diferentes!\")\n"
      ],
      "metadata": {
        "id": "QDjbRI91cdY6",
        "colab": {
          "base_uri": "https://localhost:8080/"
        },
        "outputId": "7b0393db-365e-4470-d9ce-b88661db3f9f"
      },
      "execution_count": 37,
      "outputs": [
        {
          "output_type": "stream",
          "name": "stdout",
          "text": [
            "Digite um numero inteiro: 1\n",
            "Digite outro numero inteiro: 2\n",
            "1\n"
          ]
        }
      ]
    },
    {
      "cell_type": "markdown",
      "source": [
        "8- Altere o programa anterior para mostrar no final a soma dos números."
      ],
      "metadata": {
        "id": "x19NxgY8cd-6"
      }
    },
    {
      "cell_type": "code",
      "source": [
        "n1 = int(input(\"Digite um numero inteiro: \"))\n",
        "n2 = int(input(\"Digite outro numero inteiro: \"))\n",
        "total = 0\n",
        "if (n1 > n2):\n",
        "  for i in range(n2,n1):\n",
        "    print(i)\n",
        "    total = total + i\n",
        "  print(\"Soma \", total)\n",
        "elif (n2 > n1):\n",
        "  for i in range(n1,n2):\n",
        "    print(i)\n",
        "    total = total + i\n",
        "  print(\"Soma \", total)\n",
        "else:\n",
        "  print(\"Os numeros precisam ser diferentes!\")"
      ],
      "metadata": {
        "id": "BAJ0KSvVciHy",
        "colab": {
          "base_uri": "https://localhost:8080/"
        },
        "outputId": "cd205ac2-04b3-4818-bc86-1cfa55782a16"
      },
      "execution_count": 58,
      "outputs": [
        {
          "output_type": "stream",
          "name": "stdout",
          "text": [
            "Digite um numero inteiro: 10\n",
            "Digite outro numero inteiro: 20\n",
            "10\n",
            "11\n",
            "12\n",
            "13\n",
            "14\n",
            "15\n",
            "16\n",
            "17\n",
            "18\n",
            "19\n",
            "Soma  145\n"
          ]
        }
      ]
    },
    {
      "cell_type": "markdown",
      "source": [
        "9- Faça um programa que peça para n pessoas a sua idade, ao final o programa devera verificar se a média de idade da turma varia entre 0 e 25,26 e 60 e maior que 60; e então, dizer se a turma é jovem, adulta ou idosa, conforme a média calculada."
      ],
      "metadata": {
        "id": "7RbW-aJeci3q"
      }
    },
    {
      "cell_type": "code",
      "source": [
        "rep = True\n",
        "i = 0\n",
        "total_idade = 0\n",
        "while rep:\n",
        "  idade = int(input(\"Digite a idade: \"))\n",
        "  i= i+1\n",
        "  total_idade = idade + total_idade\n",
        "  res = input(\"Deseja digitar mais idades? [S ou N] \")\n",
        "  res_s = [\"s\",\"S\",\"sim\",\"SIM\"]\n",
        "  if res in res_s:\n",
        "    print(\"----------\")\n",
        "  else:\n",
        "    print(\"----------\")\n",
        "    print(\"calculando...\")\n",
        "    rep = False\n",
        "media = total_idade/i\n",
        "if media < 25:\n",
        "  print(media)\n",
        "  print(\"Turma Jovem\")\n",
        "elif media > 25 and media < 60:\n",
        "  print(media)\n",
        "  print(\"Turma Adulta\")\n",
        "else:\n",
        "  print(media)\n",
        "  print(\"Turma Idosa\")"
      ],
      "metadata": {
        "id": "wFZ0d96Wc0Oy",
        "colab": {
          "base_uri": "https://localhost:8080/"
        },
        "outputId": "afa20357-2544-43ea-c99f-49af183be390"
      },
      "execution_count": 53,
      "outputs": [
        {
          "output_type": "stream",
          "name": "stdout",
          "text": [
            "Digite a idade: 30\n",
            "Deseja digitar mais idades? [S ou N] s\n",
            "----------\n",
            "Digite a idade: 30\n",
            "Deseja digitar mais idades? [S ou N] s\n",
            "----------\n",
            "Digite a idade: 40\n",
            "Deseja digitar mais idades? [S ou N] s\n",
            "----------\n",
            "Digite a idade: 25\n",
            "Deseja digitar mais idades? [S ou N] n\n",
            "----------\n",
            "calculando...\n",
            "31.25\n",
            "Turma Adulta\n"
          ]
        }
      ]
    },
    {
      "cell_type": "markdown",
      "source": [
        "10- Numa eleição existem três candidatos. Faça um programa que peça o número total de eleitores. Peça para cada eleitor votar e ao final mostrar o número de votos de cada candidato."
      ],
      "metadata": {
        "id": "NWJ9HcrRc1Qh"
      }
    },
    {
      "cell_type": "code",
      "source": [
        "eleitores = int(input(\"Qual a quantidade de eleitores? \"))\n",
        "ca_1 = 0\n",
        "ca_2 = 0\n",
        "ca_3 = 0\n",
        "\n",
        "for i in range (0, eleitores):\n",
        "  rep = True\n",
        "  while rep:\n",
        "    print(\"Vote em um Candidato!\")\n",
        "    print(\"1 - Candidato 1\")\n",
        "    print(\"2 - Candidato 2\")\n",
        "    print(\"3 - Candidato 3\")\n",
        "    voto = int(input(\"Seu voto: \"))\n",
        "    if voto == 1:\n",
        "      ca_1 = ca_1 + 1\n",
        "      rep = False\n",
        "      print(\"Voto Registrado\")\n",
        "      print(\"|------------------------------------|\")\n",
        "    elif voto == 2:\n",
        "      ca_2 = ca_2 + 1\n",
        "      rep = False\n",
        "      print(\"Voto Registrado\")\n",
        "      print(\"|------------------------------------|\")\n",
        "    elif voto == 3:\n",
        "      ca_3 = ca_3 + 1\n",
        "      rep = False\n",
        "      print(\"Voto Registrado\")\n",
        "      print(\"|------------------------------------|\")\n",
        "    else:\n",
        "      print(\"Digite um numero valido\")\n",
        "\n",
        "print(\"O candidato 1 recebeu \",ca_1,\"votos\")\n",
        "print(\"|------------------------------------|\")\n",
        "print(\"O candidato 2 recebeu \",ca_2,\"votos\")\n",
        "print(\"|------------------------------------|\")\n",
        "print(\"O candidato 3 recebeu \",ca_3,\"votos\")\n",
        "print(\"|------------------------------------|\")\n"
      ],
      "metadata": {
        "id": "0p-RQr8Xc68K",
        "colab": {
          "base_uri": "https://localhost:8080/"
        },
        "outputId": "6dd99da5-6159-496b-edc9-fe6bee6f96f9"
      },
      "execution_count": 64,
      "outputs": [
        {
          "output_type": "stream",
          "name": "stdout",
          "text": [
            "Qual a quantidade de eleitores? 3\n",
            "Vote em um Candidato!\n",
            "1 - Candidato 1\n",
            "2 - Candidato 2\n",
            "3 - Candidato 3\n",
            "Seu voto: 2\n",
            "Voto Registrado\n",
            "|------------------------------------|\n",
            "Vote em um Candidato!\n",
            "1 - Candidato 1\n",
            "2 - Candidato 2\n",
            "3 - Candidato 3\n",
            "Seu voto: 3\n",
            "Voto Registrado\n",
            "|------------------------------------|\n",
            "Vote em um Candidato!\n",
            "1 - Candidato 1\n",
            "2 - Candidato 2\n",
            "3 - Candidato 3\n",
            "Seu voto: 1\n",
            "Voto Registrado\n",
            "|------------------------------------|\n",
            "O candidato 1 recebeu  1 votos\n",
            "|------------------------------------|\n",
            "O candidato 2 recebeu  1 votos\n",
            "|------------------------------------|\n",
            "O candidato 3 recebeu  1 votos\n",
            "|------------------------------------|\n"
          ]
        }
      ]
    }
  ]
}